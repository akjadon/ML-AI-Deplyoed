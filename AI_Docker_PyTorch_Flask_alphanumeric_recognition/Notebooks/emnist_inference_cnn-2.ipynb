{
  "nbformat": 4,
  "nbformat_minor": 0,
  "metadata": {
    "colab": {
      "name": "emnist_inference_cnn.ipynb",
      "version": "0.3.2",
      "provenance": [],
      "collapsed_sections": []
    },
    "kernelspec": {
      "name": "python3",
      "display_name": "Python 3"
    },
    "accelerator": "GPU"
  },
  "cells": [
    {
      "cell_type": "code",
      "metadata": {
        "id": "VltpCBUpxzZA",
        "colab_type": "code",
        "colab": {}
      },
      "source": [
        "import torch\n",
        "from torchvision import datasets, transforms\n",
        "import torchvision\n",
        "import matplotlib.pyplot as plt\n",
        "import torch.nn as nn\n",
        "import torch.nn.functional as F\n",
        "import torch.optim as optim\n",
        "import logging\n",
        "import numpy as np\n",
        "import random\n",
        "import time"
      ],
      "execution_count": 0,
      "outputs": []
    },
    {
      "cell_type": "code",
      "metadata": {
        "id": "TkbyCxh0FmXK",
        "colab_type": "code",
        "colab": {
          "base_uri": "https://localhost:8080/",
          "height": 74
        },
        "outputId": "050b391d-f3e9-4f03-de4b-addece52c796"
      },
      "source": [
        "%load_ext autoreload\n",
        "%autoreload 2\n",
        "\n",
        "%matplotlib inline\n",
        "\n",
        "# Link to google drive and download data\n",
        "\n",
        "from google.colab import drive\n",
        "drive.mount('/content/gdrive/')\n"
      ],
      "execution_count": 2,
      "outputs": [
        {
          "output_type": "stream",
          "text": [
            "Drive already mounted at /content/gdrive/; to attempt to forcibly remount, call drive.mount(\"/content/gdrive/\", force_remount=True).\n"
          ],
          "name": "stdout"
        }
      ]
    },
    {
      "cell_type": "code",
      "metadata": {
        "id": "Ou8ZLK7u7vZu",
        "colab_type": "code",
        "colab": {}
      },
      "source": [
        "# Define the Net\n",
        "\n",
        "\n",
        "class Net(nn.Module):\n",
        "    def __init__(self):\n",
        "        super(Net, self).__init__()\n",
        "        self.conv1 = nn.Conv2d(28, 64, (5,5), padding = 2)\n",
        "        self.conv1_bn = nn.BatchNorm2d(64)\n",
        "\n",
        "        self.conv2 = nn.Conv2d(64, 128, 2, padding = 2)\n",
        "\n",
        "        self.fc1 = nn.Linear(2048, 1024)\n",
        "\n",
        "        self.dropout = nn.Dropout(0.3)\n",
        "\n",
        "        self.fc2 = nn.Linear(1024, 512)\n",
        "\n",
        "        self.bn = nn.BatchNorm1d(1)\n",
        "\n",
        "        self.fc3 = nn.Linear(512, 128)\n",
        "\n",
        "        self.fc4 = nn.Linear(128,47)\n",
        "\n",
        "    def forward(self, x):\n",
        "        x = F.relu(self.conv1(x))\n",
        "        x = F.max_pool2d(x, 2, 2)\n",
        "        x = self.conv1_bn(x)\n",
        "\n",
        "        x = F.relu(self.conv2(x))\n",
        "        x = F.max_pool2d(x, 2, 2)\n",
        "\n",
        "\n",
        "        x = x.view(-1, 2048)\n",
        "        x = F.relu(self.fc1(x))\n",
        "\n",
        "        x = self.dropout(x)\n",
        "\n",
        "        x = self.fc2(x)\n",
        "\n",
        "        x = x.view(-1, 1, 512)\n",
        "        x = self.bn(x)\n",
        "\n",
        "        x = x.view(-1, 512)\n",
        "        x = self.fc3(x)\n",
        "        x = self.fc4(x)\n",
        "\n",
        "        #return F.log_softmax(x, dim=1)\n",
        "        \n",
        "        return x"
      ],
      "execution_count": 0,
      "outputs": []
    },
    {
      "cell_type": "code",
      "metadata": {
        "id": "CFbtWnra8p-t",
        "colab_type": "code",
        "colab": {}
      },
      "source": [
        "root = ''\n",
        "\n",
        "#test data tranform\n",
        "transform_valid = transforms.Compose(\n",
        "    [\n",
        "     transforms.ToTensor(),\n",
        "     \n",
        "    ])\n",
        "emnist_test = datasets.EMNIST(root,split = 'balanced', train=False, download=True, transform = transform_valid)"
      ],
      "execution_count": 0,
      "outputs": []
    },
    {
      "cell_type": "code",
      "metadata": {
        "id": "EtVmK-RxNMKj",
        "colab_type": "code",
        "colab": {
          "base_uri": "https://localhost:8080/",
          "height": 233
        },
        "outputId": "9fb046d0-5ebe-4092-bc53-e8c6548d227e"
      },
      "source": [
        "# Download wights\n",
        "\n",
        "!wget https://imadelhanafi.com/data/draft/cnn_weights_blog.pth"
      ],
      "execution_count": 7,
      "outputs": [
        {
          "output_type": "stream",
          "text": [
            "--2019-07-28 10:51:27--  https://imadelhanafi.com/data/draft/cnn_weights_blog.pth\n",
            "Resolving imadelhanafi.com (imadelhanafi.com)... 104.28.28.48, 104.28.29.48, 2606:4700:30::681c:1d30, ...\n",
            "Connecting to imadelhanafi.com (imadelhanafi.com)|104.28.28.48|:443... connected.\n",
            "HTTP request sent, awaiting response... 200 OK\n",
            "Length: 11093914 (11M) [application/octet-stream]\n",
            "Saving to: ‘cnn_weights_blog.pth’\n",
            "\n",
            "\rcnn_weights_blog.pt   0%[                    ]       0  --.-KB/s               \rcnn_weights_blog.pt  66%[============>       ]   7.07M  35.3MB/s               \rcnn_weights_blog.pt 100%[===================>]  10.58M  46.2MB/s    in 0.2s    \n",
            "\n",
            "2019-07-28 10:51:28 (46.2 MB/s) - ‘cnn_weights_blog.pth’ saved [11093914/11093914]\n",
            "\n"
          ],
          "name": "stdout"
        }
      ]
    },
    {
      "cell_type": "code",
      "metadata": {
        "id": "mwy7oKlSJ9Kj",
        "colab_type": "code",
        "outputId": "5e43bab6-2e5a-4f0c-b1f3-2c98b6e9da2f",
        "colab": {
          "base_uri": "https://localhost:8080/",
          "height": 354
        }
      },
      "source": [
        "# Download weights\n",
        "\n",
        "net = Net()\n",
        "\n",
        "model_weights = 'cnn_weights_blog.pth'\n",
        "net.load_state_dict(torch.load(model_weights)[\"state_dict\"])\n",
        "net.eval()\n",
        "\n",
        "# Send to GPU\n",
        "\n",
        "device = torch.device('cuda:0')\n",
        "net.to(device)\n",
        "\n",
        "random_img = 13\n",
        "\n",
        "class_mapping = '0123456789ABCDEFGHIJKLMNOPQRSTUVWXYZabdefghnqrt'\n",
        "\n",
        "print('Inference on GPU')\n",
        "start = time.time()\n",
        "with torch.no_grad():\n",
        "\n",
        "  data = emnist_test.data[random_img] # (1,28,28)\n",
        "  \n",
        "  data = data.type(torch.FloatTensor)\n",
        "  data = data/255\n",
        "  \n",
        "  data = data.view(1, 28, 28, 1).to(device)\n",
        "  data = torch.transpose(data, 1, 2)\n",
        "  \n",
        "  out = net(data)\n",
        "  probabilities = F.softmax(out, dim = 1)\n",
        "  pred_y = torch.max(probabilities, 1)[1].cpu().data.numpy()\n",
        "  \n",
        "  print(class_mapping[int(pred_y)], 'prediction')\n",
        "  print(torch.max(probabilities, 1)[0], 'probability')\n",
        "  plt.imshow(data.cpu().reshape([28, 28]), cmap='Greys_r')\n",
        "  print(class_mapping[int(emnist_test.targets[random_img].numpy())], 'real value')\n",
        "  plt.show()\n",
        "\n",
        "end = time.time()\n",
        "print(\"inference time on GPU: \", end-start)"
      ],
      "execution_count": 8,
      "outputs": [
        {
          "output_type": "stream",
          "text": [
            "Inference on GPU\n",
            "G prediction\n",
            "tensor([0.9985], device='cuda:0') probability\n",
            "G real value\n"
          ],
          "name": "stdout"
        },
        {
          "output_type": "display_data",
          "data": {
            "image/png": "[encoded data removed]",
            "text/plain": [
              "<Figure size 432x288 with 1 Axes>"
            ]
          },
          "metadata": {
            "tags": []
          }
        },
        {
          "output_type": "stream",
          "text": [
            "inference time on GPU:  0.17154407501220703\n"
          ],
          "name": "stdout"
        }
      ]
    },
    {
      "cell_type": "code",
      "metadata": {
        "id": "Z_4v8KuKMMwo",
        "colab_type": "code",
        "colab": {}
      },
      "source": [
        ""
      ],
      "execution_count": 0,
      "outputs": []
    }
  ]
}